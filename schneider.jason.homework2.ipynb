{
 "cells": [
  {
   "cell_type": "markdown",
   "metadata": {},
   "source": [
    "# Program 1 \n",
    "## Please read the following for instructions and examples.\n",
    "&emsp;This is a program that rolls a 7-faced die 100 times and then tells the user the number of 1s, 2s, 3s, 4s, 5s, 6s, and 7s. A graphical display of the frequencies appear under the total frequencies number from a 7-faced die is given. An example is given to show what the user will see after running this program:<br>\n",
    "<br>\n",
    "Frequencies:<br>\n",
    "Number of 1s: 13<br>\n",
    "Number of 2s: 18<br>\n",
    "Number of 3s: 15<br>\n",
    "Number of 4s: 12<br>\n",
    "Number of 5s: 15<br>\n",
    "Number of 6s: 13<br>\n",
    "Number of 7s: 14<br>\n",
    "1&emsp;   * * * * * * * * * * * * * <br>\n",
    "2&emsp;   * * * * * * * * * * * * * * * * * * <br>\n",
    "3&emsp;   * * * * * * * * * * * * * * * <br>\n",
    "4&emsp;   * * * * * * * * * * * * <br>\n",
    "5&emsp;   * * * * * * * * * * * * * * * <br>\n",
    "6&emsp;   * * * * * * * * * * * * * <br>\n",
    "7&emsp;   * * * * * * * * * * * * * * <br>"
   ]
  },
  {
   "cell_type": "code",
   "execution_count": null,
   "metadata": {},
   "outputs": [],
   "source": [
    "#1\n",
    "import random\n",
    "count1=0#create empty bins\n",
    "count2=0\n",
    "count3=0\n",
    "count4=0\n",
    "count5=0 \n",
    "count6=0\n",
    "count7=0\n",
    "for i in range(1,101):#the values should total to 100\n",
    "    dice=random.randint(1,7)#computer rolls the dice\n",
    "    if dice==1:\n",
    "        count1+=1#keep track of rolls\n",
    "    if dice==2:\n",
    "        count2+=1\n",
    "    if dice==3:\n",
    "        count3+=1\n",
    "    if dice==4:\n",
    "        count4+=1\n",
    "    if dice==5:\n",
    "        count5+=1\n",
    "    if dice==6:\n",
    "        count6+=1\n",
    "    if dice==7:\n",
    "        count7+=1\n",
    "\n",
    "print('Frequencies:')\n",
    "print('Number of 1s: ',count1)#show how many times the computer rolled the dice\n",
    "print('Number of 2s: ',count2)\n",
    "print('Number of 3s: ',count3)\n",
    "print('Number of 4s: ',count4)\n",
    "print('Number of 5s: ',count5)\n",
    "print('Number of 6s: ',count6)\n",
    "print('Number of 7s: ',count7)\n",
    "print(\"1\", count1 * '*')#show the graphical display\n",
    "print(\"2\", count2 * '*')\n",
    "print(\"3\", count3 * '*')\n",
    "print(\"4\", count4 * '*')\n",
    "print(\"5\", count5 * '*')\n",
    "print(\"6\", count6 * '*')\n",
    "print(\"7\", count7 * '*')"
   ]
  },
  {
   "cell_type": "markdown",
   "metadata": {},
   "source": [
    "# Program 2 \n",
    "## Please read the following for instructions and examples.\n",
    "&emsp;This is a program where the user and the program/computer play a number guessing game. The program should prompt the user for an integer (between 1 and 100, inclusive). Then the program/computer has to guess what the user entered. This program keeps track of the number of iterations it takes for the computer to guess the number. If the user enters an integer out of range or any characters not an integer, the computer will tell the user that they entered something incorrectly. An example is given to show what the user will see after running this program:<br>\n",
    "<br>\n",
    "Enter number to be guessed: 88<br>\n",
    "You entered 88, and it took the program 3 iterations to guess<br>"
   ]
  },
  {
   "cell_type": "code",
   "execution_count": null,
   "metadata": {},
   "outputs": [],
   "source": [
    "import random\n",
    "try:\n",
    "    #User chooses the number\n",
    "    the_number = int(input(\"Enter number to be guessed: \"))\n",
    "    if the_number<=100 and the_number >=1:#catch integers entered out of range\n",
    "        tries = 1\n",
    "        computer = random.randint(1,101)#computer makes a guess\n",
    "\n",
    "        # Guessing Loop\n",
    "        while computer != the_number:#if guess is wrong,it will try again\n",
    "            computer = int(random.randint(1,101))\n",
    "            tries += 1\n",
    "\n",
    "        print(\"You entered\",the_number,\", and it took the program\",tries, \"iterations to guess\")\n",
    "    else:\n",
    "        print(\"You entered a number that is either greater than 100 or less than 1. You were supposed to enter a number that is either equal or less than 100 or equal or more than 1.\")\n",
    "except ValueError:#catches values other than integers entered by the user\n",
    "    print(\"You entered something other than an integer between 1 and 100.\")"
   ]
  },
  {
   "cell_type": "markdown",
   "metadata": {},
   "source": [
    "# Program 3 \n",
    "## Please read the following for instructions and examples.\n",
    "&emsp;This program has a function that accepts a line of text and a single letter as input (case insensitive) and returns the number of times the letter is the first character of a word. The program will prompt the user to enter a string. Then it will prompt the user to enter a letter to be searched within the string. If the user enters anything other than a letter, the program will respond to the user that the user did not enter a letter and repeat the prompt for the user to enter a letter to search within the string. An example is given to show what the user will see after running this program:<br>\n",
    "<br>\n",
    "Enter your line of text: Hello, Harry the Mad Hatter.<br>\n",
    "Enter your letter to use: h<br>\n",
    "Your letter h occurs as the first letter: 3 time(s)<br>"
   ]
  },
  {
   "cell_type": "code",
   "execution_count": null,
   "metadata": {},
   "outputs": [],
   "source": [
    "#3\n",
    "def madhat(x):\n",
    "    import re#let's use regex\n",
    "    x = re.sub(r'[^\\w\\s]','',x)#use regex to strip punctuation\n",
    "    x=x.lower()#drop all to lower case\n",
    "    x=x.split()#list the words from the input\n",
    "    y=str(input(\"Enter your letter to use: \"))#user selects a character to check in the input\n",
    "    for char in y:#filter only letters\n",
    "        if not char.isalpha():\n",
    "            print(\"You didn't enter a letter.\")\n",
    "            y=str(input(\"Try again. Enter your letter to use: \"))\n",
    "    y=y.lower()#all characters become lower case\n",
    "    c=0#start a bin at 0\n",
    "    for char in x:#check first character of each word\n",
    "        if y in char[0]:\n",
    "            c=c+1\n",
    "    print('Your letter',y,'occurs as the first letter: ',c,'time(s)')       "
   ]
  },
  {
   "cell_type": "code",
   "execution_count": null,
   "metadata": {},
   "outputs": [],
   "source": [
    "x=str(input(\"Enter your line of text: \"))\n",
    "madhat(x)"
   ]
  },
  {
   "cell_type": "markdown",
   "metadata": {},
   "source": [
    "# Program 4 \n",
    "## Please read the following for instructions and examples.\n",
    "&emsp;This program searches for pangrams that are sentences that contain every letter in the English alphabet. For example, \"The quick brown fox jumps over the lazy dog\" is a pangram. This Python program checks whether a string given by the user is a pangram or not. In addition, if the sentence is not a pangram, the program should output the letters that are missing to make it a pangram. An example is given to show what the user will see after running this program:<br>\n",
    "<br>\n",
    "Enter a string: The quick brown fox jumps over the lazy dog<br>\n",
    "The given string is a pangram<br>\n",
    "<br>\n",
    "Enter a string: The quick brown fox jumps over the lazy cat<br>\n",
    "The given string is not a pangram, you are missing hte letters: d,g<br>\n",
    "<br>"
   ]
  },
  {
   "cell_type": "code",
   "execution_count": null,
   "metadata": {},
   "outputs": [],
   "source": [
    "def split_char(s):\n",
    "    final = []#gives a list\n",
    "    temp = ''#create a temporary spot for each character to run through the loop\n",
    "    for i in s:\n",
    "        if i.isalpha():#filters only alphabetical letters through\n",
    "            final.append(temp+i)#split characters into a list\n",
    "            temp = ''\n",
    "        else:\n",
    "            temp = temp + i\n",
    "    return final\n",
    "#this is a function to split characters in order to insert commas between characters"
   ]
  },
  {
   "cell_type": "code",
   "execution_count": null,
   "metadata": {},
   "outputs": [],
   "source": [
    "def ispangram(phrase):\n",
    "    alphabet = \"abcdefghijklmnopqrstuvwxyz\"\n",
    "    phraseLetters = \"\"#create empty bins to be filled in the loop\n",
    "    NphraseLetters = \"\"#create empty bins to be filled in the loop\n",
    "    for char in phrase:#catch letters from input\n",
    "        if char in alphabet:\n",
    "            phraseLetters += char\n",
    "    for char in alphabet:#compare letters from phrase to alphabet\n",
    "        if char not in phrase:\n",
    "            NphraseLetters += char\n",
    "    for char in alphabet:#catch letters in alphabet not found in input\n",
    "        if char not in phrase:\n",
    "            NphraseLetters=split_char(NphraseLetters)#split the characters\n",
    "            NphraseLetters=','.join(NphraseLetters)#now we can insert commas between characters\n",
    "            return print('The given string is not a pangram, you are missing the letters: ',NphraseLetters)\n",
    "    return print('The given string is a pangram')"
   ]
  },
  {
   "cell_type": "code",
   "execution_count": null,
   "metadata": {},
   "outputs": [],
   "source": [
    "# Driver code\n",
    "import re#let's use regex\n",
    "str1=input('Enter a string: ') \n",
    "if re.match(r\"[A-Za-z]\", str1):#use regex to find only letters \n",
    "    ispangram(str1)  \n",
    "else:\n",
    "    print('Please, only enter letters.')"
   ]
  },
  {
   "cell_type": "markdown",
   "metadata": {},
   "source": [
    "# Program 5\n",
    "## Please read the following for instructions and examples.\n",
    "&emsp;This program requests a file name (i.e., its file location) from the user and calculates the following statistics for the contents fo the file:<br>\n",
    "<ul style=\"list-style-type:disc;\">\n",
    "  <li>Number of lines</li>\n",
    "  <li>Number of words</li>\n",
    "  <li>Number of characters</li>\n",
    "  <li>Average length of a word</li>\n",
    "</ul>\n",
    "\n",
    "If the user enters anything other than the file path to the text file, a message will shows, \"You didn't enter the path to a file correctly.\" An example is given to show what the user will see after running this program:<br>\n",
    "<br>\n",
    "What is the filename: Shakespeare.txt<br>\n",
    "Number of lines: 14<br>\n",
    "Number of words: 103<br>\n",
    "Number of characters: 482<br>\n",
    "Average length of a word: 4.56<br>"
   ]
  },
  {
   "cell_type": "code",
   "execution_count": null,
   "metadata": {},
   "outputs": [],
   "source": [
    "try:\n",
    "    file__IO = input('What is the filename: ')#user enters a path such as F:\\INSY5336\\Shakespeare.txt\n",
    "    with open(file__IO, 'r') as f:#open and read in the texts\n",
    "        data = f.read()\n",
    "        line = data.splitlines()#a line is a sequence of characters that end with a newline (\\n) character\n",
    "        words = data.split()#a word bounded by one or more spaces (or \\n) on either side of it (or both sides)\n",
    "        spaces = data.split(\" \")#find spaces\n",
    "        charc = (len(data) - len(spaces))#just find characters:a character is any single length string, e.g. 'a','-',etc. but not a space (or white space)\n",
    "        average = sum(len(word) for word in words) / len(words)#get average length of words\n",
    "        average = round(average,2)#show just two spaces after decimal\n",
    "\n",
    "        print('Number of lines:', len(line), '\\nNumber of words:', len(words), '\\nNumber of characters:', (len(data)-len(spaces)), '\\nAverage length of a word: ', average)\n",
    "except:#catch errors because of incorrect file path entered\n",
    "    print(\"You didn't enter the path to a file correctly.\")"
   ]
  }
 ],
 "metadata": {
  "kernelspec": {
   "display_name": "Python 3",
   "language": "python",
   "name": "python3"
  },
  "language_info": {
   "codemirror_mode": {
    "name": "ipython",
    "version": 3
   },
   "file_extension": ".py",
   "mimetype": "text/x-python",
   "name": "python",
   "nbconvert_exporter": "python",
   "pygments_lexer": "ipython3",
   "version": "3.8.3"
  }
 },
 "nbformat": 4,
 "nbformat_minor": 2
}
